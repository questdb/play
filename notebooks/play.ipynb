{
 "cells": [
  {
   "cell_type": "markdown",
   "id": "c2bcdcca-e71a-459b-a3de-752a89f23af4",
   "metadata": {},
   "source": [
    "<section style=\"background-color: #21222c; padding: 1em\">\n",
    "    <h1><img alt=\"QuestDB Logo\" src=\"https://questdb.io/img/questdb-logo-themed.svg\" width=\"305px\"/></h1>\n",
    "    <h2 style=\"color: white;\">Interactive Notebook Session</h2>\n",
    "</section>"
   ]
  },
  {
   "cell_type": "code",
   "execution_count": 1,
   "id": "a344db20-a103-4f66-ad54-c2f1f244cc13",
   "metadata": {},
   "outputs": [],
   "source": [
    "import questdb.ingress as qi\n",
    "import pandas as pd\n",
    "import psycopg"
   ]
  },
  {
   "cell_type": "code",
   "execution_count": 2,
   "id": "b30ab8d3-ac74-4dc8-95e7-ae150cf661d6",
   "metadata": {},
   "outputs": [
    {
     "data": {
      "text/html": [
       "<div>\n",
       "<style scoped>\n",
       "    .dataframe tbody tr th:only-of-type {\n",
       "        vertical-align: middle;\n",
       "    }\n",
       "\n",
       "    .dataframe tbody tr th {\n",
       "        vertical-align: top;\n",
       "    }\n",
       "\n",
       "    .dataframe thead th {\n",
       "        text-align: right;\n",
       "    }\n",
       "</style>\n",
       "<table border=\"1\" class=\"dataframe\">\n",
       "  <thead>\n",
       "    <tr style=\"text-align: right;\">\n",
       "      <th></th>\n",
       "      <th>a</th>\n",
       "    </tr>\n",
       "  </thead>\n",
       "  <tbody>\n",
       "    <tr>\n",
       "      <th>0</th>\n",
       "      <td>1</td>\n",
       "    </tr>\n",
       "    <tr>\n",
       "      <th>1</th>\n",
       "      <td>2</td>\n",
       "    </tr>\n",
       "    <tr>\n",
       "      <th>2</th>\n",
       "      <td>3</td>\n",
       "    </tr>\n",
       "    <tr>\n",
       "      <th>3</th>\n",
       "      <td>4</td>\n",
       "    </tr>\n",
       "    <tr>\n",
       "      <th>4</th>\n",
       "      <td>5</td>\n",
       "    </tr>\n",
       "  </tbody>\n",
       "</table>\n",
       "</div>"
      ],
      "text/plain": [
       "   a\n",
       "0  1\n",
       "1  2\n",
       "2  3\n",
       "3  4\n",
       "4  5"
      ]
     },
     "execution_count": 2,
     "metadata": {},
     "output_type": "execute_result"
    }
   ],
   "source": [
    "df = pd.DataFrame({'a': [1, 2, 3, 4, 5]})\n",
    "df"
   ]
  },
  {
   "cell_type": "code",
   "execution_count": 3,
   "id": "a7f6f633-0368-4a3d-9a11-77c7488b1d3d",
   "metadata": {},
   "outputs": [],
   "source": [
    "with qi.Sender('localhost', 9009) as sender:\n",
    "    sender.dataframe(df, table_name='foo')"
   ]
  },
  {
   "cell_type": "code",
   "execution_count": 8,
   "id": "0f7d3fd6-3a39-44fc-b1e3-7fad044a837a",
   "metadata": {},
   "outputs": [
    {
     "data": {
      "text/plain": [
       "[(1, datetime.datetime(2023, 1, 24, 21, 58, 55, 382537)),\n",
       " (2, datetime.datetime(2023, 1, 24, 21, 58, 55, 383271)),\n",
       " (3, datetime.datetime(2023, 1, 24, 21, 58, 55, 383276)),\n",
       " (4, datetime.datetime(2023, 1, 24, 21, 58, 55, 383279)),\n",
       " (5, datetime.datetime(2023, 1, 24, 21, 58, 55, 383282))]"
      ]
     },
     "execution_count": 8,
     "metadata": {},
     "output_type": "execute_result"
    }
   ],
   "source": [
    "params = dict(user='admin', password='quest', host='127.0.0.1', port='8812', dbname='qdb')\n",
    "records = None\n",
    "with psycopg.connect(**params) as conn:\n",
    "    with conn.cursor() as cur:\n",
    "        cur.execute('SELECT * FROM foo')\n",
    "        records = cur.fetchall()\n",
    "records"
   ]
  },
  {
   "cell_type": "code",
   "execution_count": null,
   "id": "52559c59-c863-4793-8e91-2a70e62492fe",
   "metadata": {},
   "outputs": [],
   "source": []
  }
 ],
 "metadata": {
  "kernelspec": {
   "display_name": "Python 3 (ipykernel)",
   "language": "python",
   "name": "python3"
  },
  "language_info": {
   "codemirror_mode": {
    "name": "ipython",
    "version": 3
   },
   "file_extension": ".py",
   "mimetype": "text/x-python",
   "name": "python",
   "nbconvert_exporter": "python",
   "pygments_lexer": "ipython3",
   "version": "3.10.5"
  }
 },
 "nbformat": 4,
 "nbformat_minor": 5
}
