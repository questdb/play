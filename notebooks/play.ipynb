{
 "cells": [
  {
   "cell_type": "markdown",
   "id": "c2bcdcca-e71a-459b-a3de-752a89f23af4",
   "metadata": {},
   "source": [
    "<section style=\"background-color: #21222c; padding: 1em\">\n",
    "    <h1><img alt=\"QuestDB Logo\" src=\"https://play.questdb.io/questdb-logo.svg\" width=\"305px\"/></h1>\n",
    "    <h2 style=\"color: white;\">Interactive Notebook Session</h2>\n",
    "</section>"
   ]
  },
  {
   "cell_type": "code",
   "execution_count": 1,
   "id": "a344db20-a103-4f66-ad54-c2f1f244cc13",
   "metadata": {},
   "outputs": [],
   "source": [
    "import questdb.ingress as qi\n",
    "import pandas as pd\n",
    "import psycopg"
   ]
  },
  {
   "cell_type": "code",
   "execution_count": 2,
   "id": "b30ab8d3-ac74-4dc8-95e7-ae150cf661d6",
   "metadata": {},
   "outputs": [],
   "source": [
    "# This demo relies on dynamic network ports for the core endpoints.\n",
    "http_port = 61610  # Web Console and REST API\n",
    "ilp_port = 61608  # Fast data ingestion port \n",
    "pg_port = 61609  # PostgreSQL-compatible endpoint"
   ]
  },
  {
   "cell_type": "code",
   "execution_count": 3,
   "id": "3e9fef77-3209-4055-90dc-d20275c9c68d",
   "metadata": {},
   "outputs": [],
   "source": [
    "df = pd.DataFrame({'a': [1, 2, 3, 4, 5]})"
   ]
  },
  {
   "cell_type": "code",
   "execution_count": 5,
   "id": "a7f6f633-0368-4a3d-9a11-77c7488b1d3d",
   "metadata": {},
   "outputs": [],
   "source": [
    "with qi.Sender('localhost', ilp_port) as sender:\n",
    "    sender.dataframe(df, table_name='foo')"
   ]
  },
  {
   "cell_type": "code",
   "execution_count": 7,
   "id": "0f7d3fd6-3a39-44fc-b1e3-7fad044a837a",
   "metadata": {},
   "outputs": [
    {
     "data": {
      "text/plain": [
       "[(1, datetime.datetime(2023, 1, 26, 13, 46, 7, 442909)),\n",
       " (2, datetime.datetime(2023, 1, 26, 13, 46, 7, 444148)),\n",
       " (3, datetime.datetime(2023, 1, 26, 13, 46, 7, 444153)),\n",
       " (4, datetime.datetime(2023, 1, 26, 13, 46, 7, 444156)),\n",
       " (5, datetime.datetime(2023, 1, 26, 13, 46, 7, 444159))]"
      ]
     },
     "execution_count": 7,
     "metadata": {},
     "output_type": "execute_result"
    }
   ],
   "source": [
    "params = dict(user='admin', password='quest', host='127.0.0.1', port=pg_port, dbname='qdb')\n",
    "records = None\n",
    "with psycopg.connect(**params) as conn:\n",
    "    with conn.cursor() as cur:\n",
    "        cur.execute('SELECT * FROM foo')\n",
    "        records = cur.fetchall()\n",
    "records"
   ]
  }
 ],
 "metadata": {
  "kernelspec": {
   "display_name": "Python 3 (ipykernel)",
   "language": "python",
   "name": "python3"
  },
  "language_info": {
   "codemirror_mode": {
    "name": "ipython",
    "version": 3
   },
   "file_extension": ".py",
   "mimetype": "text/x-python",
   "name": "python",
   "nbconvert_exporter": "python",
   "pygments_lexer": "ipython3",
   "version": "3.10.9"
  }
 },
 "nbformat": 4,
 "nbformat_minor": 5
}
